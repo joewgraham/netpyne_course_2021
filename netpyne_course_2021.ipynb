{
  "nbformat": 4,
  "nbformat_minor": 0,
  "metadata": {
    "colab": {
      "name": "netpyne_course_2021",
      "provenance": [],
      "authorship_tag": "ABX9TyO87V01+KzCv/88TbC+dwA6",
      "include_colab_link": true
    },
    "kernelspec": {
      "name": "python3",
      "display_name": "Python 3"
    },
    "language_info": {
      "name": "python"
    }
  },
  "cells": [
    {
      "cell_type": "markdown",
      "metadata": {
        "id": "view-in-github",
        "colab_type": "text"
      },
      "source": [
        "<a href=\"https://colab.research.google.com/github/joewgraham/netpyne_course_2021/blob/main/netpyne_course_2021.ipynb\" target=\"_parent\"><img src=\"https://colab.research.google.com/assets/colab-badge.svg\" alt=\"Open In Colab\"/></a>"
      ]
    },
    {
      "cell_type": "markdown",
      "metadata": {
        "id": "gdp83eMuth_x"
      },
      "source": [
        "# NetPyNE Course 2021\n",
        "\n",
        "## Working with Colab and GitHub\n",
        "\n",
        "Google Colaboratory, or \"Colab\" for short, allows you to write and execute Python in your browser, with zero configuration required, free access to GPUs, and easy sharing.  For more information, see [Introduction to Colab](https://colab.research.google.com/notebooks/intro.ipynb) and [Colab Basic Features](https://colab.research.google.com/notebooks/basic_features_overview.ipynb)\n",
        "\n",
        "GitHub is a code hosting platform for version control and collaboration. It lets you and others work together on projects from anywhere while tracking changes.  For more information see [Introduction to GitHub](https://lab.github.com/githubtraining/introduction-to-github).  \n",
        "\n",
        "In this exercise, we will create and explore a Colab notebook and install NEURON and NetPyNE.  We will then create a GitHub repository to hold our notebook and learn how to work with version control."
      ]
    },
    {
      "cell_type": "markdown",
      "metadata": {
        "id": "5Qov_hoF2MIf"
      },
      "source": [
        "### Entering terminal commands\n",
        "\n",
        "A code block in Colab executes Python code by default, but you can also execute commands in the terminal by preceding the command with a `!`.  For example, to see the current working directory path, enter `!pwd`, to list all files in the current directory, enter `!ls`, to make a new directory, enter `!mkdir <dir name>`.\n",
        "\n",
        "In order to execute a command in Colab, you must press **[shift]** and **[enter]**.  By itself, **[enter]** adds a new line to the current cell."
      ]
    },
    {
      "cell_type": "markdown",
      "metadata": {
        "id": "RLi3SNG23rxI"
      },
      "source": [
        "### Installing NEURON and NetPyNE\n",
        "\n",
        "Installation is easy with **pip**."
      ]
    },
    {
      "cell_type": "code",
      "metadata": {
        "colab": {
          "base_uri": "https://localhost:8080/"
        },
        "id": "a272xfAYtemR",
        "outputId": "75a2ab8a-22ba-409c-cc64-7f2a9a9e2a14"
      },
      "source": [
        "!pip install neuron"
      ],
      "execution_count": 1,
      "outputs": [
        {
          "output_type": "stream",
          "text": [
            "Collecting neuron\n",
            "\u001b[?25l  Downloading https://files.pythonhosted.org/packages/14/f4/ea50608c7633c286859d6cce0aad621da22a8da7ff9787efc8bb71fe0597/NEURON-8.0.0-cp37-cp37m-manylinux1_x86_64.whl (12.6MB)\n",
            "\u001b[K     |████████████████████████████████| 12.6MB 334kB/s \n",
            "\u001b[?25hRequirement already satisfied: numpy>=1.9.3 in /usr/local/lib/python3.7/dist-packages (from neuron) (1.19.5)\n",
            "Installing collected packages: neuron\n",
            "Successfully installed neuron-8.0.0\n"
          ],
          "name": "stdout"
        }
      ]
    },
    {
      "cell_type": "code",
      "metadata": {
        "colab": {
          "base_uri": "https://localhost:8080/"
        },
        "id": "Idp-IHO-t5my",
        "outputId": "5f99942a-8cd6-44ff-d397-05237263ca54"
      },
      "source": [
        "!pip install netpyne"
      ],
      "execution_count": 3,
      "outputs": [
        {
          "output_type": "stream",
          "text": [
            "Collecting netpyne\n",
            "\u001b[?25l  Downloading https://files.pythonhosted.org/packages/9e/24/0f9d685a3fbcbca0d86d9ca6521465c43725d9e23760c91524fe77191f12/netpyne-1.0.0.2-py2.py3-none-any.whl (312kB)\n",
            "\u001b[K     |████████████████████████████████| 317kB 4.9MB/s \n",
            "\u001b[?25hRequirement already satisfied: bokeh in /usr/local/lib/python3.7/dist-packages (from netpyne) (2.3.2)\n",
            "Requirement already satisfied: numpy in /usr/local/lib/python3.7/dist-packages (from netpyne) (1.19.5)\n",
            "Requirement already satisfied: future in /usr/local/lib/python3.7/dist-packages (from netpyne) (0.16.0)\n",
            "Requirement already satisfied: pandas in /usr/local/lib/python3.7/dist-packages (from netpyne) (1.1.5)\n",
            "Collecting matplotlib-scalebar\n",
            "  Downloading https://files.pythonhosted.org/packages/51/a4/cd254234c35f3591361988e89ab132ee14789f2ebe1ede621d63f5241f00/matplotlib_scalebar-0.7.2-py2.py3-none-any.whl\n",
            "Requirement already satisfied: matplotlib in /usr/local/lib/python3.7/dist-packages (from netpyne) (3.2.2)\n",
            "Requirement already satisfied: scipy in /usr/local/lib/python3.7/dist-packages (from netpyne) (1.4.1)\n",
            "Requirement already satisfied: python-dateutil>=2.1 in /usr/local/lib/python3.7/dist-packages (from bokeh->netpyne) (2.8.1)\n",
            "Requirement already satisfied: packaging>=16.8 in /usr/local/lib/python3.7/dist-packages (from bokeh->netpyne) (20.9)\n",
            "Requirement already satisfied: tornado>=5.1 in /usr/local/lib/python3.7/dist-packages (from bokeh->netpyne) (5.1.1)\n",
            "Requirement already satisfied: pillow>=7.1.0 in /usr/local/lib/python3.7/dist-packages (from bokeh->netpyne) (7.1.2)\n",
            "Requirement already satisfied: Jinja2>=2.9 in /usr/local/lib/python3.7/dist-packages (from bokeh->netpyne) (2.11.3)\n",
            "Requirement already satisfied: typing-extensions>=3.7.4 in /usr/local/lib/python3.7/dist-packages (from bokeh->netpyne) (3.7.4.3)\n",
            "Requirement already satisfied: PyYAML>=3.10 in /usr/local/lib/python3.7/dist-packages (from bokeh->netpyne) (3.13)\n",
            "Requirement already satisfied: pytz>=2017.2 in /usr/local/lib/python3.7/dist-packages (from pandas->netpyne) (2018.9)\n",
            "Requirement already satisfied: cycler>=0.10 in /usr/local/lib/python3.7/dist-packages (from matplotlib->netpyne) (0.10.0)\n",
            "Requirement already satisfied: kiwisolver>=1.0.1 in /usr/local/lib/python3.7/dist-packages (from matplotlib->netpyne) (1.3.1)\n",
            "Requirement already satisfied: pyparsing!=2.0.4,!=2.1.2,!=2.1.6,>=2.0.1 in /usr/local/lib/python3.7/dist-packages (from matplotlib->netpyne) (2.4.7)\n",
            "Requirement already satisfied: six>=1.5 in /usr/local/lib/python3.7/dist-packages (from python-dateutil>=2.1->bokeh->netpyne) (1.15.0)\n",
            "Requirement already satisfied: MarkupSafe>=0.23 in /usr/local/lib/python3.7/dist-packages (from Jinja2>=2.9->bokeh->netpyne) (2.0.0)\n",
            "Installing collected packages: matplotlib-scalebar, netpyne\n",
            "Successfully installed matplotlib-scalebar-0.7.2 netpyne-1.0.0.2\n"
          ],
          "name": "stdout"
        }
      ]
    },
    {
      "cell_type": "markdown",
      "metadata": {
        "id": "TCWrnfNo4HLz"
      },
      "source": [
        "Now let's make sure that they were installed correctly by importing them into Python."
      ]
    },
    {
      "cell_type": "code",
      "metadata": {
        "colab": {
          "base_uri": "https://localhost:8080/"
        },
        "id": "K1Spa1Z_uF0N",
        "outputId": "fdd52959-a52e-45a9-e9cb-c702a7e1b56a"
      },
      "source": [
        "import neuron\n",
        "!which nrnivmodl"
      ],
      "execution_count": 19,
      "outputs": [
        {
          "output_type": "stream",
          "text": [
            "/usr/local/bin/nrnivmodl\n"
          ],
          "name": "stdout"
        }
      ]
    },
    {
      "cell_type": "code",
      "metadata": {
        "colab": {
          "base_uri": "https://localhost:8080/",
          "height": 35
        },
        "id": "-7AnvzcYuO1A",
        "outputId": "cbb9f228-7ddb-421e-8075-8eade48e9734"
      },
      "source": [
        "import netpyne\n",
        "netpyne.__version__"
      ],
      "execution_count": 13,
      "outputs": [
        {
          "output_type": "execute_result",
          "data": {
            "application/vnd.google.colaboratory.intrinsic+json": {
              "type": "string"
            },
            "text/plain": [
              "'1.0.0.2'"
            ]
          },
          "metadata": {
            "tags": []
          },
          "execution_count": 13
        }
      ]
    },
    {
      "cell_type": "markdown",
      "metadata": {
        "id": "UsmxEITR5AAV"
      },
      "source": [
        "So we are now ready to begin building a model in NEURON and NetPyNE.  But in order to be able to track changes to our code, we also want to create a GitHub repository."
      ]
    },
    {
      "cell_type": "markdown",
      "metadata": {
        "id": "0PIJ69X95jwj"
      },
      "source": [
        "### Creating a GitHub repository\n",
        "\n",
        "Go to [GitHub](https://github.com/) and create an account if you don't have one already.\n",
        "\n",
        "Click on the `New` button next to **Repositories**.  \n",
        "\n",
        "Give your new repository a name (I called mine \"netpyne_course_2021\").  You can make it public or private according to your preferences, but sharing is easier with public repositories.  Check the box next to **Add a README file**, this file should be in every repo to explain what is in the repo and how to use it.\n",
        "\n",
        "My repo is here: https://github.com/joewgraham/netpyne_course_2021."
      ]
    },
    {
      "cell_type": "markdown",
      "metadata": {
        "id": "FdG1cC9H8ad7"
      },
      "source": [
        "### Saving this file to GitHub\n",
        "\n",
        "In the upper-left of this window, next to the Colab logo, click `File` and then `Save a copy in GitHub`.\n",
        "\n",
        "Choose the repository you just created, and add a brief but informative commit message.  My commit message right now will be: \"added more info about Colab and GitHub\"."
      ]
    },
    {
      "cell_type": "code",
      "metadata": {
        "id": "RG_XCJIRv9MC"
      },
      "source": [
        ""
      ],
      "execution_count": null,
      "outputs": []
    }
  ]
}